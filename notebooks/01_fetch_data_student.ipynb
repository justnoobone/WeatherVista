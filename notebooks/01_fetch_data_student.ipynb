{
 "cells": [
  {
   "cell_type": "raw",
   "metadata": {},
   "source": [
    "---\n",
    "title: \"WeatherVista Project - Session 1: Fetching Data from the OpenWeatherMap API\"\n",
    "execute: \n",
    "  enabled: false\n",
    "---"
   ]
  },
  {
   "cell_type": "markdown",
   "metadata": {},
   "source": [
    "[Download Notebook](01_fetch_data_task.ipynb)\n",
    "\n",
    "## Objectives\n",
    "- Learn how to fetch weather data using the OpenWeatherMap API.\n",
    "- Understand how to handle API responses and errors.\n",
    "- Save fetched data to a CSV file.\n",
    "\n",
    "## 1. Introduction to OpenWeatherMap API\n",
    "The OpenWeatherMap API provides weather data for various locations. You need to sign up and get an API key to access the data.\n",
    "\n",
    "### Steps to Get API Key\n",
    "1. Go to [OpenWeatherMap](https://home.openweathermap.org/users/sign_up) and sign up for an account.\n",
    "2. After signing up, navigate to the API keys section and generate a new API key.\n",
    "3. Keep this API key safe, as you will need it to make API requests.\n",
    "\n",
    "## 2. Fetching Weather Data\n",
    "We'll use the `requests` library to fetch weather data from the OpenWeatherMap API.\n",
    "\n",
    "### Import Required Libraries\n"
   ]
  },
  {
   "cell_type": "code",
   "execution_count": 9,
   "metadata": {},
   "outputs": [],
   "source": [
    "import requests\n",
    "import pandas as pd"
   ]
  },
  {
   "cell_type": "code",
   "execution_count": 13,
   "metadata": {},
   "outputs": [
    {
     "name": "stdout",
     "output_type": "stream",
     "text": [
      "Help on function get in module requests.api:\n",
      "\n",
      "get(url, params=None, **kwargs)\n",
      "    Sends a GET request.\n",
      "    \n",
      "    :param url: URL for the new :class:`Request` object.\n",
      "    :param params: (optional) Dictionary, list of tuples or bytes to send\n",
      "        in the query string for the :class:`Request`.\n",
      "    :param \\*\\*kwargs: Optional arguments that ``request`` takes.\n",
      "    :return: :class:`Response <Response>` object\n",
      "    :rtype: requests.Response\n",
      "\n"
     ]
    }
   ],
   "source": [
    "help(requests.get)"
   ]
  },
  {
   "cell_type": "markdown",
   "metadata": {},
   "source": [
    "### Fetch some Data\n",
    "Lets fetch some data..  Replace `'your_api_key_here'` with your actual API key and fetch data for a sample location."
   ]
  },
  {
   "cell_type": "code",
   "execution_count": 16,
   "metadata": {},
   "outputs": [
    {
     "data": {
      "text/plain": [
       "<Response [200]>"
      ]
     },
     "execution_count": 16,
     "metadata": {},
     "output_type": "execute_result"
    }
   ],
   "source": [
    "# Setup important variables\n",
    "api_key = '377c31c283cd3ce3430e73063f15df4f'\n",
    "location = 'Guangzhou'\n",
    "\n",
    "\n",
    "# Make request to website endpoint\n",
    "url = f\"http://api.openweathermap.org/data/2.5/weather?q={location}&appid={api_key}\"\n",
    "response = requests.get(url)\n",
    "\n",
    "# Print response\n",
    "response"
   ]
  },
  {
   "cell_type": "code",
   "execution_count": 20,
   "metadata": {},
   "outputs": [
    {
     "data": {
      "text/plain": [
       "{'coord': {'lon': 113.25, 'lat': 23.1167},\n",
       " 'weather': [{'id': 804,\n",
       "   'main': 'Clouds',\n",
       "   'description': 'overcast clouds',\n",
       "   'icon': '04d'}],\n",
       " 'base': 'stations',\n",
       " 'main': {'temp': 299.12,\n",
       "  'feels_like': 299.12,\n",
       "  'temp_min': 299.12,\n",
       "  'temp_max': 299.12,\n",
       "  'pressure': 1011,\n",
       "  'humidity': 85,\n",
       "  'sea_level': 1011,\n",
       "  'grnd_level': 1010},\n",
       " 'visibility': 10000,\n",
       " 'wind': {'speed': 2.56, 'deg': 358, 'gust': 4.01},\n",
       " 'clouds': {'all': 100},\n",
       " 'dt': 1717640757,\n",
       " 'sys': {'type': 1,\n",
       "  'id': 9620,\n",
       "  'country': 'CN',\n",
       "  'sunrise': 1717623646,\n",
       "  'sunset': 1717672253},\n",
       " 'timezone': 28800,\n",
       " 'id': 1809858,\n",
       " 'name': 'Guangzhou',\n",
       " 'cod': 200}"
      ]
     },
     "execution_count": 20,
     "metadata": {},
     "output_type": "execute_result"
    }
   ],
   "source": [
    "response.json()"
   ]
  },
  {
   "cell_type": "markdown",
   "metadata": {},
   "source": [
    "What happens if the location does not exist, try a location that does not exist. Replace `'your_api_key_here'` with your actual API key and fetch data for a sample location."
   ]
  },
  {
   "cell_type": "code",
   "execution_count": 15,
   "metadata": {},
   "outputs": [
    {
     "data": {
      "text/plain": [
       "<Response [404]>"
      ]
     },
     "execution_count": 15,
     "metadata": {},
     "output_type": "execute_result"
    }
   ],
   "source": [
    "# Setup important variables\n",
    "api_key = '377c31c283cd3ce3430e73063f15df4f'\n",
    "location = 'ABCDEFGHIJK'\n",
    "\n",
    "# Make request to website endpoint\n",
    "url = f\"http://api.openweathermap.org/data/2.5/weather?q={location}&appid={api_key}\"\n",
    "response = requests.get(url)\n",
    "\n",
    "# Print response\n",
    "response"
   ]
  },
  {
   "cell_type": "markdown",
   "metadata": {},
   "source": [
    "### Define Function to Fetch Weather Data\n",
    "We'll create a function to fetch weather data for a specific location."
   ]
  },
  {
   "cell_type": "code",
   "execution_count": 21,
   "metadata": {},
   "outputs": [],
   "source": [
    "def fetch_weather_data(api_key, location):\n",
    "    url = f\"http://api.openweathermap.org/data/2.5/weather?q={location}&appid={api_key}\"\n",
    "    response = requests.get(url)\n",
    "    if response.status_code == 200:\n",
    "        data = response.json()\n",
    "        return data\n",
    "    else:\n",
    "        print(f\"Failed to fetch data: {response.status_code}\")\n",
    "        return None"
   ]
  },
  {
   "cell_type": "markdown",
   "metadata": {},
   "source": [
    "### Fetch Data for a Sample Location\n",
    "Replace `'your_api_key_here'` with your actual API key and fetch data for a sample location."
   ]
  },
  {
   "cell_type": "code",
   "execution_count": 26,
   "metadata": {},
   "outputs": [
    {
     "data": {
      "text/plain": [
       "{'coord': {'lon': 113.25, 'lat': 23.1167},\n",
       " 'weather': [{'id': 804,\n",
       "   'main': 'Clouds',\n",
       "   'description': 'overcast clouds',\n",
       "   'icon': '04d'}],\n",
       " 'base': 'stations',\n",
       " 'main': {'temp': 299.12,\n",
       "  'feels_like': 299.12,\n",
       "  'temp_min': 299.12,\n",
       "  'temp_max': 299.12,\n",
       "  'pressure': 1011,\n",
       "  'humidity': 83,\n",
       "  'sea_level': 1011,\n",
       "  'grnd_level': 1009},\n",
       " 'visibility': 10000,\n",
       " 'wind': {'speed': 2.64, 'deg': 0, 'gust': 3.76},\n",
       " 'clouds': {'all': 100},\n",
       " 'dt': 1717641422,\n",
       " 'sys': {'type': 1,\n",
       "  'id': 9620,\n",
       "  'country': 'CN',\n",
       "  'sunrise': 1717623646,\n",
       "  'sunset': 1717672253},\n",
       " 'timezone': 28800,\n",
       " 'id': 1809858,\n",
       " 'name': 'Guangzhou',\n",
       " 'cod': 200}"
      ]
     },
     "execution_count": 26,
     "metadata": {},
     "output_type": "execute_result"
    }
   ],
   "source": [
    "api_key = '377c31c283cd3ce3430e73063f15df4f'\n",
    "location = 'Guangzhou'\n",
    "data = fetch_weather_data(api_key, location)\n",
    "data"
   ]
  },
  {
   "cell_type": "code",
   "execution_count": 48,
   "metadata": {},
   "outputs": [
    {
     "data": {
      "text/plain": [
       "{'temp': 299.12,\n",
       " 'feels_like': 299.12,\n",
       " 'temp_min': 299.12,\n",
       " 'temp_max': 299.12,\n",
       " 'pressure': 1011,\n",
       " 'humidity': 83,\n",
       " 'sea_level': 1011,\n",
       " 'grnd_level': 1009}"
      ]
     },
     "execution_count": 48,
     "metadata": {},
     "output_type": "execute_result"
    }
   ],
   "source": [
    "data['main']"
   ]
  },
  {
   "cell_type": "markdown",
   "metadata": {},
   "source": [
    "## 3. Parsing and Displaying Data\n",
    "We'll parse the JSON response and extract relevant information."
   ]
  },
  {
   "cell_type": "markdown",
   "metadata": {},
   "source": [
    "## 3. Parsing and Displaying Data\n",
    "We'll parse the JSON response and extract relevant information."
   ]
  },
  {
   "cell_type": "code",
   "execution_count": 47,
   "metadata": {},
   "outputs": [
    {
     "data": {
      "text/plain": [
       "'overcast clouds'"
      ]
     },
     "execution_count": 47,
     "metadata": {},
     "output_type": "execute_result"
    }
   ],
   "source": [
    "data['weather'][0]['description']"
   ]
  },
  {
   "cell_type": "code",
   "execution_count": 67,
   "metadata": {},
   "outputs": [
    {
     "data": {
      "text/plain": [
       "{'Location': 'Guangzhou',\n",
       " 'Temperature': 299.12,\n",
       " 'Humidity': 83,\n",
       " 'Weather': 'overcast clouds'}"
      ]
     },
     "execution_count": 67,
     "metadata": {},
     "output_type": "execute_result"
    }
   ],
   "source": [
    "def parse_weather_data(data):\n",
    "    if data:\n",
    "        weather = {\n",
    "            \"Location\": data[\"name\"],\n",
    "            \"Temperature\": data[\"main\"][\"temp\"],\n",
    "            \"Humidity\": data[\"main\"][\"humidity\"],\n",
    "            \"Weather\": data[\"weather\"][0][\"description\"]\n",
    "        }\n",
    "        return weather\n",
    "    else:\n",
    "        return None\n",
    "\n",
    "parsed_data = parse_weather_data(data)\n",
    "parsed_data"
   ]
  },
  {
   "cell_type": "markdown",
   "metadata": {},
   "source": [
    "## 4. Saving Data to a CSV File\n",
    "We'll save the fetched data to a CSV file using pandas.\n",
    "\n",
    "### Convert Data to DataFrame"
   ]
  },
  {
   "cell_type": "code",
   "execution_count": 72,
   "metadata": {},
   "outputs": [
    {
     "data": {
      "text/html": [
       "<div>\n",
       "<style scoped>\n",
       "    .dataframe tbody tr th:only-of-type {\n",
       "        vertical-align: middle;\n",
       "    }\n",
       "\n",
       "    .dataframe tbody tr th {\n",
       "        vertical-align: top;\n",
       "    }\n",
       "\n",
       "    .dataframe thead th {\n",
       "        text-align: right;\n",
       "    }\n",
       "</style>\n",
       "<table border=\"1\" class=\"dataframe\">\n",
       "  <thead>\n",
       "    <tr style=\"text-align: right;\">\n",
       "      <th></th>\n",
       "      <th>Location</th>\n",
       "      <th>Temperature</th>\n",
       "      <th>Humidity</th>\n",
       "      <th>Weather</th>\n",
       "    </tr>\n",
       "  </thead>\n",
       "  <tbody>\n",
       "    <tr>\n",
       "      <th>0</th>\n",
       "      <td>Guangzhou</td>\n",
       "      <td>299.12</td>\n",
       "      <td>83</td>\n",
       "      <td>overcast clouds</td>\n",
       "    </tr>\n",
       "  </tbody>\n",
       "</table>\n",
       "</div>"
      ],
      "text/plain": [
       "    Location  Temperature  Humidity          Weather\n",
       "0  Guangzhou       299.12        83  overcast clouds"
      ]
     },
     "execution_count": 72,
     "metadata": {},
     "output_type": "execute_result"
    }
   ],
   "source": [
    "df = pd.DataFrame([parsed_data])\n",
    "df.head()"
   ]
  },
  {
   "cell_type": "markdown",
   "metadata": {},
   "source": [
    "We can now save the data to a CSV file... lets write a function to do that."
   ]
  },
  {
   "cell_type": "code",
   "execution_count": 73,
   "metadata": {},
   "outputs": [],
   "source": [
    "def save_to_csv(data, filename):\n",
    "    df = pd.DataFrame([data])\n",
    "    df.to_csv(filename, index=False)\n",
    "\n",
    "save_to_csv(parsed_data, 'weather_data.csv')"
   ]
  },
  {
   "cell_type": "markdown",
   "metadata": {},
   "source": [
    "### Read and Display the CSV File"
   ]
  },
  {
   "cell_type": "code",
   "execution_count": 74,
   "metadata": {},
   "outputs": [
    {
     "data": {
      "text/html": [
       "<div>\n",
       "<style scoped>\n",
       "    .dataframe tbody tr th:only-of-type {\n",
       "        vertical-align: middle;\n",
       "    }\n",
       "\n",
       "    .dataframe tbody tr th {\n",
       "        vertical-align: top;\n",
       "    }\n",
       "\n",
       "    .dataframe thead th {\n",
       "        text-align: right;\n",
       "    }\n",
       "</style>\n",
       "<table border=\"1\" class=\"dataframe\">\n",
       "  <thead>\n",
       "    <tr style=\"text-align: right;\">\n",
       "      <th></th>\n",
       "      <th>Location</th>\n",
       "      <th>Temperature</th>\n",
       "      <th>Humidity</th>\n",
       "      <th>Weather</th>\n",
       "    </tr>\n",
       "  </thead>\n",
       "  <tbody>\n",
       "    <tr>\n",
       "      <th>0</th>\n",
       "      <td>Guangzhou</td>\n",
       "      <td>299.12</td>\n",
       "      <td>83</td>\n",
       "      <td>overcast clouds</td>\n",
       "    </tr>\n",
       "  </tbody>\n",
       "</table>\n",
       "</div>"
      ],
      "text/plain": [
       "    Location  Temperature  Humidity          Weather\n",
       "0  Guangzhou       299.12        83  overcast clouds"
      ]
     },
     "execution_count": 74,
     "metadata": {},
     "output_type": "execute_result"
    }
   ],
   "source": [
    "df = pd.read_csv('weather_data.csv')\n",
    "df"
   ]
  },
  {
   "cell_type": "markdown",
   "metadata": {},
   "source": [
    "## 5. Error Handling\n",
    "It's important to handle errors that may occur during API requests. We've already added basic error handling in the `fetch_weather_data` function. Let's test it with an invalid location.\n",
    "\n",
    "### Test Error Handling"
   ]
  },
  {
   "cell_type": "code",
   "execution_count": 75,
   "metadata": {},
   "outputs": [
    {
     "name": "stdout",
     "output_type": "stream",
     "text": [
      "Failed to fetch data: 404\n"
     ]
    }
   ],
   "source": [
    "invalid_location = 'InvalidCity'\n",
    "invalid_data = fetch_weather_data(api_key, invalid_location)\n",
    "invalid_data"
   ]
  },
  {
   "cell_type": "markdown",
   "metadata": {},
   "source": [
    "## Homework\n",
    "- Experiment with fetching weather data for different cities.\n",
    "- Explore the OpenWeatherMap API documentation to see what other data you can fetch.\n",
    "\n",
    "## Summary\n",
    "In this session, we learned how to fetch weather data from the OpenWeatherMap API, parse the JSON response, and save the data to a CSV file. We also covered basic error handling to manage failed API requests.\n",
    "\n",
    "Next session, we will focus on managing data with CSV and SQL."
   ]
  }
 ],
 "metadata": {
  "kernelspec": {
   "display_name": "Python 3 (ipykernel)",
   "language": "python",
   "name": "python3"
  },
  "language_info": {
   "codemirror_mode": {
    "name": "ipython",
    "version": 3
   },
   "file_extension": ".py",
   "mimetype": "text/x-python",
   "name": "python",
   "nbconvert_exporter": "python",
   "pygments_lexer": "ipython3",
   "version": "3.12.3"
  }
 },
 "nbformat": 4,
 "nbformat_minor": 4
}
