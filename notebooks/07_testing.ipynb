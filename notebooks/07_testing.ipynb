{
 "cells": [
  {
   "cell_type": "markdown",
   "metadata": {},
   "source": [
    "## Objectives\n",
    "- Learn the importance of testing in software development.\n",
    "- Explore using `doctest` for inline testing within docstrings.\n",
    "\n",
    "## 1. Introduction to Testing\n",
    "\n",
    "Testing is crucial for ensuring the reliability and correctness of your code. In this session, we will focus on writing tests using `doctest`.\n",
    "\n",
    "## 2. Using `doctest` for Inline Testing\n",
    "\n",
    "### Example Function: `convert_temp_kelvin_to_celsius`\n",
    "\n",
    "Let's start with a simple weather-related function and add a `doctest` to it."
   ]
  },
  {
   "cell_type": "markdown",
   "metadata": {},
   "source": [
    "| Test  | Expected|\n",
    "|-------|---------|\n",
    "| 273.15 | 0 |\n",
    "| 0 | -273.15 |\n",
    "| 373.15 | 100 |\n"
   ]
  },
  {
   "cell_type": "code",
   "execution_count": 9,
   "metadata": {},
   "outputs": [],
   "source": [
    "def convert_temp_kelvin_to_celsius(kelvin):\n",
    "    \"\"\"\n",
    "    Convert temperature from Kelvin to Celsius.\n",
    "\n",
    "    Args:\n",
    "    - kelvin (float): Temperature in Kelvin.\n",
    "\n",
    "    Returns:\n",
    "    - float: Temperature in Celsius.\n",
    "\n",
    "    Examples:\n",
    "    >>> convert_temp_kelvin_to_celsius(273.15)\n",
    "    0.0\n",
    "    >>> convert_temp_kelvin_to_celsius(0)\n",
    "    -273.15\n",
    "    >>> convert_temp_kelvin_to_celsius(373.15)\n",
    "    100.0\n",
    "    \"\"\"\n",
    "    return kelvin - 273.15"
   ]
  },
  {
   "cell_type": "markdown",
   "metadata": {},
   "source": [
    "### Running `doctest` for `convert_temp_kelvin_to_celsius`\n",
    "\n",
    "To run `doctest` within the Jupyter notebook, you can use the `doctest` module directly.\n",
    "\n",
    "**Note**: The `doctest.testmod()` function will only test the functions that have been defined in cells that have already been executed. It does not scan the entire notebook; it only tests the functions and classes that are available in the current Python environment at the time it is called."
   ]
  },
  {
   "cell_type": "code",
   "execution_count": 20,
   "metadata": {},
   "outputs": [
    {
     "name": "stdout",
     "output_type": "stream",
     "text": [
      "**********************************************************************\n",
      "File \"__main__\", line 18, in __main__.fetch_weather_data\n",
      "Failed example:\n",
      "    data['Location'] == 'London'\n",
      "Exception raised:\n",
      "    Traceback (most recent call last):\n",
      "      File \"C:\\Anaconda3-2022.10\\envs\\weathervista\\Lib\\doctest.py\", line 1355, in __run\n",
      "        exec(compile(example.source, filename, \"single\",\n",
      "      File \"<doctest __main__.fetch_weather_data[2]>\", line 1, in <module>\n",
      "        data['Location'] == 'London'\n",
      "        ~~~~^^^^^^^^^^^^\n",
      "    TypeError: 'NoneType' object is not subscriptable\n",
      "**********************************************************************\n",
      "1 items had failures:\n",
      "   1 of   3 in __main__.fetch_weather_data\n",
      "***Test Failed*** 1 failures.\n"
     ]
    },
    {
     "data": {
      "text/plain": [
       "TestResults(failed=1, attempted=6)"
      ]
     },
     "execution_count": 20,
     "metadata": {},
     "output_type": "execute_result"
    }
   ],
   "source": [
    "import doctest\n",
    "\n",
    "doctest.testmod()"
   ]
  },
  {
   "cell_type": "markdown",
   "metadata": {},
   "source": [
    "### More Complex Function: `fetch_weather_data`\n",
    "\n",
    "Now let's add another function that fetches weather data and includes a `doctest`."
   ]
  },
  {
   "cell_type": "markdown",
   "metadata": {},
   "source": [
    "| Test  | Expected|\n",
    "|-------|---------|\n",
    "|fetch_weather_data('invalid_api_key', 'London') | None |\n",
    "|fetch_weather_data('valid_api_key', 'London') | data['Location'] == London| "
   ]
  },
  {
   "cell_type": "code",
   "execution_count": 7,
   "metadata": {},
   "outputs": [],
   "source": [
    "import requests\n",
    "\n",
    "def fetch_weather_data(api_key, location):\n",
    "    \"\"\"\n",
    "    Fetch weather data from the OpenWeatherMap API.\n",
    "\n",
    "    Args:\n",
    "    - api_key (str): The API key for authentication.\n",
    "    - location (str): The location for which to fetch weather data.\n",
    "\n",
    "    Returns:\n",
    "    - dict: A dictionary containing weather data.\n",
    "\n",
    "    Examples:\n",
    "    >>> fetch_weather_data('invalid_api_key', 'London') is None\n",
    "    True\n",
    "    >>> data = fetch_weather_data('bae42c96357151336d517d332313285c', 'London')\n",
    "    >>> data['Location'] == 'London'\n",
    "    True\n",
    "    \"\"\"\n",
    "    url = f\"http://api.openweathermap.org/data/2.5/weather?q={location}&appid={api_key}\"\n",
    "    response = requests.get(url)\n",
    "    if response.status_code == 200:\n",
    "        data = response.json()\n",
    "        weather_info = {\n",
    "            \"Location\": data[\"name\"],\n",
    "            \"Temperature (C)\": data[\"main\"][\"temp\"] - 273.15,\n",
    "            \"Humidity (%)\": data[\"main\"][\"humidity\"],\n",
    "            \"Weather\": data[\"weather\"][0][\"description\"]\n",
    "        }\n",
    "        return weather_info\n",
    "    else:\n",
    "        return None"
   ]
  },
  {
   "cell_type": "markdown",
   "metadata": {},
   "source": [
    "### Running `doctest` for `fetch_weather_data`\n",
    "\n",
    "Again, ensure the function is defined in a previously executed cell before running `doctest.testmod()`."
   ]
  },
  {
   "cell_type": "code",
   "execution_count": 8,
   "metadata": {},
   "outputs": [
    {
     "data": {
      "text/plain": [
       "TestResults(failed=0, attempted=3)"
      ]
     },
     "execution_count": 8,
     "metadata": {},
     "output_type": "execute_result"
    }
   ],
   "source": [
    "import doctest\n",
    "\n",
    "doctest.testmod()"
   ]
  },
  {
   "cell_type": "markdown",
   "metadata": {},
   "source": [
    "### 3. Adding doctests to WeatherVista Functions\n",
    "\n",
    "Add `doctest` to our functions in the `scripts` directory.\n",
    "\n",
    "### scripts/fetch_data.py\n",
    "\n",
    "```python\n",
    "def fetch_weather_data(api_key, location):\n",
    "    \"\"\"\n",
    "    Fetch weather data from the OpenWeatherMap API.\n",
    "\n",
    "    Args:\n",
    "    - api_key (str): The API key for authentication.\n",
    "    - location (str): The location for which to fetch weather data.\n",
    "\n",
    "    Returns:\n",
    "    - dict: A dictionary containing weather data.\n",
    "\n",
    "    Examples:\n",
    "    >>> fetch_weather_data('invalid_api_key', 'London') is None\n",
    "    True\n",
    "    \"\"\"\n",
    "    url = f\"http://api.openweathermap.org/data/2.5/weather?q={location}&appid={api_key}\"\n",
    "    response = requests.get(url)\n",
    "    if response.status_code == 200:\n",
    "        data = response.json()\n",
    "        weather_info = {\n",
    "            \"Location\": data[\"name\"],\n",
    "            \"Temperature (C)\": data[\"main\"][\"temp\"] - 273.15,\n",
    "            \"Humidity (%)\": data[\"main\"][\"humidity\"],\n",
    "            \"Weather\": data[\"weather\"][0][\"description\"]\n",
    "        }\n",
    "        return weather_info\n",
    "    else:\n",
    "        return None\n",
    "```\n",
    "\n",
    "### Running `doctest` for WeatherVista\n",
    "\n",
    "To run `doctest` for this function, at the command line:\n",
    "\n",
    "```python\n",
    "python -m doctest -v scripts/fetch_data.py\n",
    "```\n",
    "\n",
    "### scripts/process_data.py\n",
    "\n",
    "```python\n",
    "def convert_temp_kelvin_to_celsius(kelvin):\n",
    "    \"\"\"\n",
    "    Convert temperature from Kelvin to Celsius.\n",
    "\n",
    "    Args:\n",
    "    - kelvin (float): Temperature in Kelvin.\n",
    "\n",
    "    Returns:\n",
    "    - float: Temperature in Celsius.\n",
    "\n",
    "    Examples:\n",
    "    >>> convert_temp_kelvin_to_celsius(273.15)\n",
    "    0.0\n",
    "    >>> convert_temp_kelvin_to_celsius(0)\n",
    "    -273.15\n",
    "    >>> convert_temp_kelvin_to_celsius(373.15)\n",
    "    100.0\n",
    "    \"\"\"\n",
    "    return kelvin - 273.15\n",
    "```\n",
    "\n",
    "### Running `doctest` for Data Processing Functions\n",
    "\n",
    "To run `doctest` for this function:\n",
    "\n",
    "```python\n",
    "python -m doctest -v scripts/process_data.py\n",
    "```\n",
    "\n",
    "### 4. Integrating Tests into the Project\n",
    "\n",
    "Create a script to run all `doctests` in the project.\n",
    "\n",
    "### run_doctests.py\n",
    "\n",
    "```python\n",
    "import doctest\n",
    "import scripts.fetch_data\n",
    "import scripts.process_data\n",
    "\n",
    "def run_all_doctests():\n",
    "    doctest.testmod(scripts.fetch_data)\n",
    "    doctest.testmod(scripts.process_data)\n",
    "\n",
    "if __name__ == \"__main__\":\n",
    "    run_all_doctests()\n",
    "```\n",
    "\n",
    "### Running All doctests\n",
    "\n",
    "To run all doctests in the project:\n",
    "\n",
    "```python\n",
    "python run_doctests.py\n",
    "```\n",
    "\n",
    "## Homework\n",
    "- Add more `doctest` cases to cover edge cases and different scenarios.\n",
    "- Explore using other testing frameworks and tools to enhance your testing strategy.\n",
    "\n",
    "## Summary\n",
    "In this session, we learned the importance of testing and how to write and run tests using `doctest`. We added tests for our weather fetching and data processing functions to ensure their correctness and reliability.\n",
    "\n",
    "Next session, we will focus on finalising the project, adding documentation, and discussing distribution methods."
   ]
  },
  {
   "cell_type": "code",
   "execution_count": null,
   "metadata": {},
   "outputs": [],
   "source": []
  },
  {
   "cell_type": "code",
   "execution_count": null,
   "metadata": {},
   "outputs": [],
   "source": []
  }
 ],
 "metadata": {
  "kernelspec": {
   "display_name": "Python 3 (ipykernel)",
   "language": "python",
   "name": "python3"
  },
  "language_info": {
   "codemirror_mode": {
    "name": "ipython",
    "version": 3
   },
   "file_extension": ".py",
   "mimetype": "text/x-python",
   "name": "python",
   "nbconvert_exporter": "python",
   "pygments_lexer": "ipython3",
   "version": "3.11.9"
  }
 },
 "nbformat": 4,
 "nbformat_minor": 4
}
