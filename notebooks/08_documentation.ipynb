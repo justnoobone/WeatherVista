{
 "cells": [
  {
   "cell_type": "markdown",
   "metadata": {},
   "source": [
    "### Step-by-Step Guide:\n",
    "\n",
    "\n",
    "1. **Install MkDocs and mkdocstrings:**\n",
    "\n",
    "First install the mkdocs program and support for Pytohn"
   ]
  },
  {
   "cell_type": "code",
   "execution_count": 18,
   "metadata": {},
   "outputs": [
    {
     "name": "stdout",
     "output_type": "stream",
     "text": [
      "Requirement already satisfied: mkdocs in c:\\anaconda3-2022.10\\envs\\weathervista\\lib\\site-packages (1.6.0)\n",
      "Requirement already satisfied: mkdocstrings in c:\\anaconda3-2022.10\\envs\\weathervista\\lib\\site-packages (0.25.1)\n",
      "Requirement already satisfied: mkdocstrings-python in c:\\anaconda3-2022.10\\envs\\weathervista\\lib\\site-packages (1.10.3)\n",
      "Requirement already satisfied: click>=7.0 in c:\\anaconda3-2022.10\\envs\\weathervista\\lib\\site-packages (from mkdocs) (8.1.7)\n",
      "Requirement already satisfied: colorama>=0.4 in c:\\anaconda3-2022.10\\envs\\weathervista\\lib\\site-packages (from mkdocs) (0.4.6)\n",
      "Requirement already satisfied: ghp-import>=1.0 in c:\\anaconda3-2022.10\\envs\\weathervista\\lib\\site-packages (from mkdocs) (2.1.0)\n",
      "Requirement already satisfied: jinja2>=2.11.1 in c:\\anaconda3-2022.10\\envs\\weathervista\\lib\\site-packages (from mkdocs) (3.1.4)\n",
      "Requirement already satisfied: markdown>=3.3.6 in c:\\anaconda3-2022.10\\envs\\weathervista\\lib\\site-packages (from mkdocs) (3.6)\n",
      "Requirement already satisfied: markupsafe>=2.0.1 in c:\\anaconda3-2022.10\\envs\\weathervista\\lib\\site-packages (from mkdocs) (2.1.5)\n",
      "Requirement already satisfied: mergedeep>=1.3.4 in c:\\anaconda3-2022.10\\envs\\weathervista\\lib\\site-packages (from mkdocs) (1.3.4)\n",
      "Requirement already satisfied: mkdocs-get-deps>=0.2.0 in c:\\anaconda3-2022.10\\envs\\weathervista\\lib\\site-packages (from mkdocs) (0.2.0)\n",
      "Requirement already satisfied: packaging>=20.5 in c:\\anaconda3-2022.10\\envs\\weathervista\\lib\\site-packages (from mkdocs) (24.0)\n",
      "Requirement already satisfied: pathspec>=0.11.1 in c:\\anaconda3-2022.10\\envs\\weathervista\\lib\\site-packages (from mkdocs) (0.12.1)\n",
      "Requirement already satisfied: pyyaml-env-tag>=0.1 in c:\\anaconda3-2022.10\\envs\\weathervista\\lib\\site-packages (from mkdocs) (0.1)\n",
      "Requirement already satisfied: pyyaml>=5.1 in c:\\anaconda3-2022.10\\envs\\weathervista\\lib\\site-packages (from mkdocs) (6.0.1)\n",
      "Requirement already satisfied: watchdog>=2.0 in c:\\anaconda3-2022.10\\envs\\weathervista\\lib\\site-packages (from mkdocs) (4.0.1)\n",
      "Requirement already satisfied: mkdocs-autorefs>=0.3.1 in c:\\anaconda3-2022.10\\envs\\weathervista\\lib\\site-packages (from mkdocstrings) (1.0.1)\n",
      "Requirement already satisfied: platformdirs>=2.2.0 in c:\\anaconda3-2022.10\\envs\\weathervista\\lib\\site-packages (from mkdocstrings) (4.2.2)\n",
      "Requirement already satisfied: pymdown-extensions>=6.3 in c:\\anaconda3-2022.10\\envs\\weathervista\\lib\\site-packages (from mkdocstrings) (10.8.1)\n",
      "Requirement already satisfied: griffe>=0.44 in c:\\anaconda3-2022.10\\envs\\weathervista\\lib\\site-packages (from mkdocstrings-python) (0.45.3)\n",
      "Requirement already satisfied: python-dateutil>=2.8.1 in c:\\anaconda3-2022.10\\envs\\weathervista\\lib\\site-packages (from ghp-import>=1.0->mkdocs) (2.9.0.post0)\n",
      "Requirement already satisfied: six>=1.5 in c:\\anaconda3-2022.10\\envs\\weathervista\\lib\\site-packages (from python-dateutil>=2.8.1->ghp-import>=1.0->mkdocs) (1.16.0)\n"
     ]
    }
   ],
   "source": [
    "!pip install mkdocs mkdocstrings mkdocstrings-python"
   ]
  },
  {
   "cell_type": "markdown",
   "metadata": {},
   "source": [
    "2. **Initialize the MkDocs Project:**"
   ]
  },
  {
   "cell_type": "code",
   "execution_count": 19,
   "metadata": {},
   "outputs": [
    {
     "name": "stderr",
     "output_type": "stream",
     "text": [
      "INFO    -  Writing config file: .\\mkdocs.yml\n",
      "INFO    -  Writing initial docs: .\\docs\\index.md\n"
     ]
    },
    {
     "data": {
      "text/plain": [
       "'C:\\\\Users\\\\211934G\\\\Documents\\\\ISYS2001'"
      ]
     },
     "execution_count": 19,
     "metadata": {},
     "output_type": "execute_result"
    }
   ],
   "source": [
    "import os\n",
    "\n",
    "# Change directory to the root of your overall project\n",
    "os.chdir('..')\n",
    "\n",
    "# Initialize a new MkDocs project in the root directory\n",
    "!mkdocs new .\n",
    "\n",
    "# Verify the current working directory (should be the root of your overall project)\n",
    "os.getcwd()"
   ]
  },
  {
   "cell_type": "markdown",
   "metadata": {},
   "source": [
    "3. **Update the mkdocs.yml Configuration:**\n",
    "\n",
    "Create a new `mkdocs.yml` content to include the `mkdocstrings` plugin."
   ]
  },
  {
   "cell_type": "code",
   "execution_count": 20,
   "metadata": {},
   "outputs": [],
   "source": [
    "# Create a new mkdocs.yml content\n",
    "the_content = \"\"\"\n",
    "site_name: My Awesome WeatherVista Documentation\n",
    "\n",
    "nav:\n",
    "    - Home: index.md\n",
    "\n",
    "plugins:\n",
    "    - search\n",
    "    - mkdocstrings:\n",
    "        handlers:\n",
    "            python:\n",
    "                setup_commands:\n",
    "                    - pip install mkdocstrings-python\n",
    "\n",
    "# Paths to the documentation files\n",
    "docs_dir: docs\n",
    "site_dir: site\n",
    "\"\"\"\n",
    "\n",
    "# Write the content to mkdocs.yml\n",
    "with open('mkdocs.yml', 'w') as file:\n",
    "    file.write(the_content)"
   ]
  },
  {
   "cell_type": "markdown",
   "metadata": {},
   "source": [
    "4. **Create the `index.md` Page:**\n",
    "\n",
    "Include the module references directly in the `index.md`.\n",
    "\n",
    "### index.md:"
   ]
  },
  {
   "cell_type": "code",
   "execution_count": 21,
   "metadata": {},
   "outputs": [],
   "source": [
    "index_md_content = \"\"\"\n",
    "# Welcome to the WeatherVista Project Documentation Site!\n",
    "\n",
    "This documentation covers the scripts used in the project.\n",
    "\n",
    "## API Reference\n",
    "\n",
    "### Utilitiy Function\n",
    "\n",
    "::: scripts.utils\n",
    "\n",
    "### Data fetching function\n",
    "\n",
    "::: scripts.fetch_data\n",
    "\n",
    "### Data Processing Functions\n",
    "\n",
    "::: scripts.process_data\n",
    "\n",
    "\"\"\"\n",
    "\n",
    "# Write the content to index.md\n",
    "with open('docs/index.md', 'w') as file:\n",
    "    file.write(index_md_content)"
   ]
  },
  {
   "cell_type": "markdown",
   "metadata": {},
   "source": [
    "5. **Ensure `PYTHONPATH` is Set Correctly:**\n",
    "\n",
    "To make sure MkDocs can find your `scripts` directory, set the `PYTHONPATH` environment variable.\n",
    "\n",
    "You can set the `PYTHONPATH` in the terminal or include it in the build command.\n",
    "\n",
    "For example, in your terminal:\n",
    "\n",
    "```bash\n",
    "export PYTHONPATH=$(pwd)\n",
    "```\n"
   ]
  },
  {
   "cell_type": "code",
   "execution_count": 23,
   "metadata": {},
   "outputs": [
    {
     "data": {
      "text/plain": [
       "'C:\\\\Users\\\\211934G\\\\Documents\\\\ISYS2001\\\\weathervista'"
      ]
     },
     "execution_count": 23,
     "metadata": {},
     "output_type": "execute_result"
    }
   ],
   "source": [
    "# os.chdir('notebooks')\n",
    "os.chdir('weathervista')\n",
    "os.getcwd()"
   ]
  },
  {
   "cell_type": "code",
   "execution_count": 24,
   "metadata": {},
   "outputs": [
    {
     "name": "stderr",
     "output_type": "stream",
     "text": [
      "INFO    -  Cleaning site directory\n",
      "INFO    -  Building documentation to directory: C:\\Users\\211934G\\Documents\\ISYS2001\\weathervista\\site\n",
      "INFO    -  DeprecationWarning: invalid escape sequence '\\s'\n",
      "  File \"C:\\Anaconda3-2022.10\\envs\\weathervista\\Lib\\site-packages\\griffe\\agents\\visitor.py\", line 170, in get_module\n",
      "    top_node = compile(self.code, mode=\"exec\", filename=str(self.filepath), flags=ast.PyCF_ONLY_AST, optimize=1)\n",
      "  File \"C:\\Anaconda3-2022.10\\envs\\weathervista\\Lib\\site-packages\\win32\\scripts\\regsetup.py\", line 502, in \n",
      "    examples = \"\"\"\\\n",
      "\n",
      "WARNING -  griffe: scripts\\utils.py:32: No type or annotation for returned value 'float'\n",
      "WARNING -  griffe: scripts\\utils.py:14: No type or annotation for returned value 'str'\n",
      "WARNING -  griffe: scripts\\fetch_data.py:11: No type or annotation for returned value 1\n",
      "WARNING -  griffe: scripts\\fetch_data.py:32: No type or annotation for returned value 'tuple'\n",
      "WARNING -  griffe: scripts\\process_data.py:51: No type or annotation for returned value 1\n",
      "WARNING -  griffe: scripts\\process_data.py:11: No type or annotation for returned value 'dict'\n",
      "WARNING -  griffe: scripts\\process_data.py:84: No type or annotation for returned value 'tuple'\n",
      "WARNING -  griffe: scripts\\process_data.py:34: No type or annotation for returned value 1\n",
      "INFO    -  Documentation built in 0.97 seconds\n"
     ]
    },
    {
     "name": "stdout",
     "output_type": "stream",
     "text": [
      "^C\n"
     ]
    }
   ],
   "source": [
    "# Build the documentation with PYTHONPATH set\n",
    "!mkdocs build\n",
    "\n",
    "# Serve the documentation with PYTHONPATH set\n",
    "!mkdocs serve"
   ]
  },
  {
   "cell_type": "markdown",
   "metadata": {},
   "source": [
    "You can now access the documentation locally at http://127.0.0.1:8000.\n",
    "\n",
    "\n",
    "### Summary\n",
    "\n",
    "In this notebook, we learned how to:\n",
    "- Install MkDocs, `mkdocstrings`, and `mkdocstrings-python`.\n",
    "- Initialize an MkDocs project in the root of your overall project.\n",
    "- Configure MkDocs to use `mkdocstrings` for auto-generating documentation.\n",
    "- Directly include module references in the `index.md` file.\n",
    "- Ensure the `PYTHONPATH` is set correctly so MkDocs can find your scripts.\n",
    "- Build and serve the documentation locally.\n"
   ]
  }
 ],
 "metadata": {
  "kernelspec": {
   "display_name": "Python 3 (ipykernel)",
   "language": "python",
   "name": "python3"
  },
  "language_info": {
   "codemirror_mode": {
    "name": "ipython",
    "version": 3
   },
   "file_extension": ".py",
   "mimetype": "text/x-python",
   "name": "python",
   "nbconvert_exporter": "python",
   "pygments_lexer": "ipython3",
   "version": "3.11.9"
  }
 },
 "nbformat": 4,
 "nbformat_minor": 4
}
