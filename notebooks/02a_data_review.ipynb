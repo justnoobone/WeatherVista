{
 "cells": [
  {
   "cell_type": "raw",
   "metadata": {},
   "source": [
    "---\n",
    "title: \"WeatherVista Project - REVIEW Session 2: Data Review and Fetching\"\n",
    "execute: \n",
    "  enabled: false\n",
    "---"
   ]
  },
  {
   "cell_type": "markdown",
   "metadata": {},
   "source": [
    "#### Objectives\n",
    "- Learn how to fetch weather forecast data using the OpenWeatherMap API.\n",
    "- Understand how to process and save the fetched data.\n",
    "- Review the structure and content of the raw and processed data.\n",
    "- Calculate daily weather statistics from forecast data.\n",
    "\n",
    "#### 1. Introduction to Data Fetching\n",
    "In this session, we will fetch weather forecast data from the OpenWeatherMap API and process it for analysis.\n",
    "\n",
    "##### Import Required Libraries"
   ]
  },
  {
   "cell_type": "code",
   "execution_count": 1,
   "metadata": {},
   "outputs": [],
   "source": [
    "import requests\n",
    "import pandas as pd"
   ]
  },
  {
   "cell_type": "markdown",
   "metadata": {},
   "source": [
    "##### Set Up API Key and City\n",
    "Replace the placeholder with your own OpenWeatherMap API key."
   ]
  },
  {
   "cell_type": "code",
   "execution_count": 2,
   "metadata": {},
   "outputs": [],
   "source": [
    "# Replace with your OpenWeatherMap API key\n",
    "API_KEY = 'eafb97e1451c508dcadcec7a9b3d802e'\n",
    "city = 'London'"
   ]
  },
  {
   "cell_type": "markdown",
   "metadata": {},
   "source": [
    "#### 2. Fetching Weather Forecast Data\n",
    "We will define a function to fetch the 5-day weather forecast data for a specified city.\n",
    "\n",
    "##### Define Function to Fetch Data"
   ]
  },
  {
   "cell_type": "code",
   "execution_count": 3,
   "metadata": {},
   "outputs": [],
   "source": [
    "# Function to fetch data from the given URL and return JSON\n",
    "def fetch_data(url):\n",
    "    response = requests.get(url)\n",
    "    data = response.json()\n",
    "    if response.status_code != 200:\n",
    "        print(f\"Error fetching data: {data}\")\n",
    "        return None\n",
    "    return data"
   ]
  },
  {
   "cell_type": "markdown",
   "metadata": {},
   "source": [
    "##### Fetch Data"
   ]
  },
  {
   "cell_type": "code",
   "execution_count": 4,
   "metadata": {},
   "outputs": [],
   "source": [
    "# Fetch current weather data\n",
    "current_url = f'http://api.openweathermap.org/data/2.5/weather?q={city}&appid={API_KEY}'\n",
    "current_data = fetch_data(current_url)\n",
    "\n",
    "# Fetch 5-day forecast data\n",
    "forecast_url = f'http://api.openweathermap.org/data/2.5/forecast?q={city}&appid={API_KEY}'\n",
    "forecast_data = fetch_data(forecast_url)"
   ]
  },
  {
   "cell_type": "markdown",
   "metadata": {},
   "source": [
    "#### 3. Processing and Saving Data\n",
    "We will process the fetched data to extract relevant information and save it in CSV format.\n",
    "\n",
    "##### Parse Weather Data"
   ]
  },
  {
   "cell_type": "code",
   "execution_count": 5,
   "metadata": {},
   "outputs": [],
   "source": [
    "# Function to parse a single weather entry into a dictionary\n",
    "def parse_weather(entry):\n",
    "    if entry is None:\n",
    "        return None\n",
    "    return {\n",
    "        'Datetime': pd.to_datetime(entry['dt'], unit='s'),\n",
    "        'Temperature (C)': entry['main']['temp'] - 273.15,\n",
    "        'Humidity (%)': entry['main']['humidity'],\n",
    "        'Wind Speed (m/s)': entry['wind']['speed'],\n",
    "        'Weather': entry['weather'][0]['description']\n",
    "    }"
   ]
  },
  {
   "cell_type": "markdown",
   "metadata": {},
   "source": [
    "##### Extract and Process Data"
   ]
  },
  {
   "cell_type": "code",
   "execution_count": 6,
   "metadata": {},
   "outputs": [],
   "source": [
    "# Process current weather data\n",
    "current_weather = parse_weather(current_data)\n",
    "\n",
    "# Process forecast weather data\n",
    "forecast_weather = [parse_weather(entry) for entry in forecast_data['list']]"
   ]
  },
  {
   "cell_type": "markdown",
   "metadata": {},
   "source": [
    "##### Save Data to CSV"
   ]
  },
  {
   "cell_type": "code",
   "execution_count": 7,
   "metadata": {},
   "outputs": [
    {
     "name": "stdout",
     "output_type": "stream",
     "text": [
      "../data/processed/current_weather_data.csv saved\n",
      "../data/processed/hourly_weather_data.csv saved\n"
     ]
    }
   ],
   "source": [
    "# Function to save a list of dictionaries to a CSV file\n",
    "def save_to_csv(data, filename):\n",
    "    if data is None:\n",
    "        print(f\"No data to save for {filename}\")\n",
    "        return\n",
    "    df = pd.DataFrame(data)\n",
    "    df.to_csv(filename, index=False)\n",
    "    print(f\"{filename} saved\")\n",
    "\n",
    "# Save current weather data to CSV\n",
    "save_to_csv([current_weather], '../data/processed/current_weather_data.csv')\n",
    "\n",
    "# Save forecast weather data to CSV\n",
    "save_to_csv(forecast_weather, '../data/processed/hourly_weather_data.csv')"
   ]
  },
  {
   "cell_type": "markdown",
   "metadata": {},
   "source": [
    "##### Calculate Daily Statistics"
   ]
  },
  {
   "cell_type": "code",
   "execution_count": 8,
   "metadata": {},
   "outputs": [
    {
     "name": "stdout",
     "output_type": "stream",
     "text": [
      "../data/processed/daily_weather_stats.csv saved\n"
     ]
    }
   ],
   "source": [
    "# Function to calculate daily min and max stats from forecast data\n",
    "def calculate_daily_stats(forecast_data):\n",
    "    if forecast_data is None:\n",
    "        return None\n",
    "    \n",
    "    # Convert the list of dictionaries to a DataFrame\n",
    "    df_forecast = pd.DataFrame(forecast_data)\n",
    "    \n",
    "    # Extract the date from the 'Datetime' column and create a new 'Date' column\n",
    "    df_forecast['Date'] = df_forecast['Datetime'].dt.date\n",
    "\n",
    "    # Group the data by the 'Date' column and calculate the min and max for each group\n",
    "    daily_stats = df_forecast.groupby('Date').agg({\n",
    "        'Temperature (C)': ['min', 'max'],\n",
    "        'Humidity (%)': ['min', 'max'],\n",
    "        'Wind Speed (m/s)': ['min', 'max']\n",
    "    })\n",
    "\n",
    "    # Flatten the MultiIndex columns\n",
    "    daily_stats.columns = ['Min Temperature (C)', 'Max Temperature (C)', \n",
    "                           'Min Humidity (%)', 'Max Humidity (%)', \n",
    "                           'Min Wind Speed (m/s)', 'Max Wind Speed (m/s)']\n",
    "    \n",
    "    # Reset the index to turn the 'Date' back into a column\n",
    "    daily_stats.reset_index(inplace=True)\n",
    "    \n",
    "    return daily_stats\n",
    "\n",
    "# Calculate and save daily statistics to CSV\n",
    "daily_stats = calculate_daily_stats(forecast_weather)\n",
    "save_to_csv(daily_stats, '../data/processed/daily_weather_stats.csv')"
   ]
  },
  {
   "cell_type": "markdown",
   "metadata": {},
   "source": [
    "#### 4. Reviewing the Data\n",
    "We will review the structure and content of the raw and processed data to ensure it is correctly fetched and processed.\n",
    "\n",
    "##### Display the First Few Rows of Raw Data"
   ]
  },
  {
   "cell_type": "code",
   "execution_count": 9,
   "metadata": {},
   "outputs": [
    {
     "data": {
      "text/html": [
       "<div>\n",
       "<style scoped>\n",
       "    .dataframe tbody tr th:only-of-type {\n",
       "        vertical-align: middle;\n",
       "    }\n",
       "\n",
       "    .dataframe tbody tr th {\n",
       "        vertical-align: top;\n",
       "    }\n",
       "\n",
       "    .dataframe thead th {\n",
       "        text-align: right;\n",
       "    }\n",
       "</style>\n",
       "<table border=\"1\" class=\"dataframe\">\n",
       "  <thead>\n",
       "    <tr style=\"text-align: right;\">\n",
       "      <th></th>\n",
       "      <th>Datetime</th>\n",
       "      <th>Temperature (C)</th>\n",
       "      <th>Humidity (%)</th>\n",
       "      <th>Wind Speed (m/s)</th>\n",
       "      <th>Weather</th>\n",
       "    </tr>\n",
       "  </thead>\n",
       "  <tbody>\n",
       "    <tr>\n",
       "      <th>0</th>\n",
       "      <td>2024-06-07 03:00:00</td>\n",
       "      <td>9.19</td>\n",
       "      <td>83</td>\n",
       "      <td>2.04</td>\n",
       "      <td>few clouds</td>\n",
       "    </tr>\n",
       "    <tr>\n",
       "      <th>1</th>\n",
       "      <td>2024-06-07 06:00:00</td>\n",
       "      <td>9.69</td>\n",
       "      <td>77</td>\n",
       "      <td>2.28</td>\n",
       "      <td>few clouds</td>\n",
       "    </tr>\n",
       "    <tr>\n",
       "      <th>2</th>\n",
       "      <td>2024-06-07 09:00:00</td>\n",
       "      <td>13.49</td>\n",
       "      <td>63</td>\n",
       "      <td>3.75</td>\n",
       "      <td>scattered clouds</td>\n",
       "    </tr>\n",
       "    <tr>\n",
       "      <th>3</th>\n",
       "      <td>2024-06-07 12:00:00</td>\n",
       "      <td>17.23</td>\n",
       "      <td>52</td>\n",
       "      <td>4.83</td>\n",
       "      <td>broken clouds</td>\n",
       "    </tr>\n",
       "    <tr>\n",
       "      <th>4</th>\n",
       "      <td>2024-06-07 15:00:00</td>\n",
       "      <td>17.76</td>\n",
       "      <td>57</td>\n",
       "      <td>5.47</td>\n",
       "      <td>light rain</td>\n",
       "    </tr>\n",
       "  </tbody>\n",
       "</table>\n",
       "</div>"
      ],
      "text/plain": [
       "              Datetime  Temperature (C)  Humidity (%)  Wind Speed (m/s)  \\\n",
       "0  2024-06-07 03:00:00             9.19            83              2.04   \n",
       "1  2024-06-07 06:00:00             9.69            77              2.28   \n",
       "2  2024-06-07 09:00:00            13.49            63              3.75   \n",
       "3  2024-06-07 12:00:00            17.23            52              4.83   \n",
       "4  2024-06-07 15:00:00            17.76            57              5.47   \n",
       "\n",
       "            Weather  \n",
       "0        few clouds  \n",
       "1        few clouds  \n",
       "2  scattered clouds  \n",
       "3     broken clouds  \n",
       "4        light rain  "
      ]
     },
     "execution_count": 9,
     "metadata": {},
     "output_type": "execute_result"
    }
   ],
   "source": [
    "df_raw = pd.read_csv('../data/processed/hourly_weather_data.csv')\n",
    "df_raw.head()"
   ]
  },
  {
   "cell_type": "markdown",
   "metadata": {},
   "source": [
    "##### Display the First Few Rows of Processed Data"
   ]
  },
  {
   "cell_type": "code",
   "execution_count": 10,
   "metadata": {},
   "outputs": [
    {
     "data": {
      "text/html": [
       "<div>\n",
       "<style scoped>\n",
       "    .dataframe tbody tr th:only-of-type {\n",
       "        vertical-align: middle;\n",
       "    }\n",
       "\n",
       "    .dataframe tbody tr th {\n",
       "        vertical-align: top;\n",
       "    }\n",
       "\n",
       "    .dataframe thead th {\n",
       "        text-align: right;\n",
       "    }\n",
       "</style>\n",
       "<table border=\"1\" class=\"dataframe\">\n",
       "  <thead>\n",
       "    <tr style=\"text-align: right;\">\n",
       "      <th></th>\n",
       "      <th>Date</th>\n",
       "      <th>Min Temperature (C)</th>\n",
       "      <th>Max Temperature (C)</th>\n",
       "      <th>Min Humidity (%)</th>\n",
       "      <th>Max Humidity (%)</th>\n",
       "      <th>Min Wind Speed (m/s)</th>\n",
       "      <th>Max Wind Speed (m/s)</th>\n",
       "    </tr>\n",
       "  </thead>\n",
       "  <tbody>\n",
       "    <tr>\n",
       "      <th>0</th>\n",
       "      <td>2024-06-07</td>\n",
       "      <td>9.19</td>\n",
       "      <td>17.76</td>\n",
       "      <td>52</td>\n",
       "      <td>83</td>\n",
       "      <td>2.04</td>\n",
       "      <td>5.47</td>\n",
       "    </tr>\n",
       "    <tr>\n",
       "      <th>1</th>\n",
       "      <td>2024-06-08</td>\n",
       "      <td>9.93</td>\n",
       "      <td>18.55</td>\n",
       "      <td>50</td>\n",
       "      <td>86</td>\n",
       "      <td>2.64</td>\n",
       "      <td>4.11</td>\n",
       "    </tr>\n",
       "    <tr>\n",
       "      <th>2</th>\n",
       "      <td>2024-06-09</td>\n",
       "      <td>8.69</td>\n",
       "      <td>18.61</td>\n",
       "      <td>43</td>\n",
       "      <td>86</td>\n",
       "      <td>1.19</td>\n",
       "      <td>4.81</td>\n",
       "    </tr>\n",
       "    <tr>\n",
       "      <th>3</th>\n",
       "      <td>2024-06-10</td>\n",
       "      <td>8.81</td>\n",
       "      <td>12.88</td>\n",
       "      <td>85</td>\n",
       "      <td>98</td>\n",
       "      <td>1.39</td>\n",
       "      <td>3.84</td>\n",
       "    </tr>\n",
       "    <tr>\n",
       "      <th>4</th>\n",
       "      <td>2024-06-11</td>\n",
       "      <td>8.61</td>\n",
       "      <td>13.22</td>\n",
       "      <td>76</td>\n",
       "      <td>97</td>\n",
       "      <td>2.05</td>\n",
       "      <td>4.87</td>\n",
       "    </tr>\n",
       "  </tbody>\n",
       "</table>\n",
       "</div>"
      ],
      "text/plain": [
       "         Date  Min Temperature (C)  Max Temperature (C)  Min Humidity (%)  \\\n",
       "0  2024-06-07                 9.19                17.76                52   \n",
       "1  2024-06-08                 9.93                18.55                50   \n",
       "2  2024-06-09                 8.69                18.61                43   \n",
       "3  2024-06-10                 8.81                12.88                85   \n",
       "4  2024-06-11                 8.61                13.22                76   \n",
       "\n",
       "   Max Humidity (%)  Min Wind Speed (m/s)  Max Wind Speed (m/s)  \n",
       "0                83                  2.04                  5.47  \n",
       "1                86                  2.64                  4.11  \n",
       "2                86                  1.19                  4.81  \n",
       "3                98                  1.39                  3.84  \n",
       "4                97                  2.05                  4.87  "
      ]
     },
     "execution_count": 10,
     "metadata": {},
     "output_type": "execute_result"
    }
   ],
   "source": [
    "df_processed = pd.read_csv('../data/processed/daily_weather_stats.csv')\n",
    "df_processed.head()"
   ]
  },
  {
   "cell_type": "markdown",
   "metadata": {},
   "source": [
    "#### Homework\n",
    "- Experiment with fetching data for different cities and review the structure of the fetched data.\n",
    "- Extend the data processing to include additional weather parameters if available.\n",
    "\n",
    "#### Summary\n",
    "In this session, we learned how to fetch weather forecast data using the OpenWeatherMap API. We processed the data to convert temperature values from Kelvin to Celsius and saved both raw and processed data to CSV files. We also calculated daily weather statistics, preparing us for further analysis and visualization in upcoming sessions."
   ]
  }
 ],
 "metadata": {
  "kernelspec": {
   "display_name": "Python 3 (ipykernel)",
   "language": "python",
   "name": "python3"
  },
  "language_info": {
   "codemirror_mode": {
    "name": "ipython",
    "version": 3
   },
   "file_extension": ".py",
   "mimetype": "text/x-python",
   "name": "python",
   "nbconvert_exporter": "python",
   "pygments_lexer": "ipython3",
   "version": "3.11.9"
  }
 },
 "nbformat": 4,
 "nbformat_minor": 4
}
